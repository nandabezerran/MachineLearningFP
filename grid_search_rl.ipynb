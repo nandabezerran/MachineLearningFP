{
  "nbformat": 4,
  "nbformat_minor": 0,
  "metadata": {
    "kernelspec": {
      "display_name": "Python 3",
      "language": "python",
      "name": "python3"
    },
    "language_info": {
      "codemirror_mode": {
        "name": "ipython",
        "version": 3
      },
      "file_extension": ".py",
      "mimetype": "text/x-python",
      "name": "python",
      "nbconvert_exporter": "python",
      "pygments_lexer": "ipython3",
      "version": "3.7.6"
    },
    "colab": {
      "name": "grid_search_rl.ipynb",
      "provenance": [],
      "collapsed_sections": []
    },
    "accelerator": "TPU"
  },
  "cells": [
    {
      "cell_type": "code",
      "metadata": {
        "id": "wPByMlAp0zW0",
        "colab_type": "code",
        "colab": {}
      },
      "source": [
        "import os\n",
        "from pydrive.auth import GoogleAuth\n",
        "from pydrive.drive import GoogleDrive\n",
        "from google.colab import auth\n",
        "from oauth2client.client import GoogleCredentials"
      ],
      "execution_count": null,
      "outputs": []
    },
    {
      "cell_type": "code",
      "metadata": {
        "id": "67evNmbZ01Fa",
        "colab_type": "code",
        "colab": {}
      },
      "source": [
        "auth.authenticate_user()\n",
        "gauth = GoogleAuth()\n",
        "gauth.credentials = GoogleCredentials.get_application_default()\n",
        "drive = GoogleDrive(gauth)"
      ],
      "execution_count": null,
      "outputs": []
    },
    {
      "cell_type": "code",
      "metadata": {
        "id": "YiPQ02Z704iu",
        "colab_type": "code",
        "colab": {
          "base_uri": "https://localhost:8080/",
          "height": 121
        },
        "outputId": "4bfc2674-2a84-4906-e891-45e6b21b1ac1"
      },
      "source": [
        "# Load the Drive helper and mount\n",
        "from google.colab import drive\n",
        "\n",
        "# This will prompt for authorization.\n",
        "drive.mount('/content/drive')"
      ],
      "execution_count": null,
      "outputs": [
        {
          "output_type": "stream",
          "text": [
            "Go to this URL in a browser: https://accounts.google.com/o/oauth2/auth?client_id=947318989803-6bn6qk8qdgf4n4g3pfee6491hc0brc4i.apps.googleusercontent.com&redirect_uri=urn%3aietf%3awg%3aoauth%3a2.0%3aoob&response_type=code&scope=email%20https%3a%2f%2fwww.googleapis.com%2fauth%2fdocs.test%20https%3a%2f%2fwww.googleapis.com%2fauth%2fdrive%20https%3a%2f%2fwww.googleapis.com%2fauth%2fdrive.photos.readonly%20https%3a%2f%2fwww.googleapis.com%2fauth%2fpeopleapi.readonly\n",
            "\n",
            "Enter your authorization code:\n",
            "··········\n",
            "Mounted at /content/drive\n"
          ],
          "name": "stdout"
        }
      ]
    },
    {
      "cell_type": "code",
      "metadata": {
        "id": "fr6XDzXTz59H",
        "colab_type": "code",
        "colab": {}
      },
      "source": [
        "import numpy as np\n",
        "import pandas as pd\n",
        "import random as rd\n",
        "import array\n",
        "from math import sqrt\n",
        "from sklearn.model_selection import train_test_split\n",
        "from sklearn.metrics import classification_report, accuracy_score\n",
        "from sklearn.metrics import confusion_matrix"
      ],
      "execution_count": null,
      "outputs": []
    },
    {
      "cell_type": "code",
      "metadata": {
        "id": "f2ZSkiXOz59M",
        "colab_type": "code",
        "colab": {}
      },
      "source": [
        "dataTable = pd.read_csv(\"/content/drive/My Drive/Colab Notebooks/cardio_train.csv\", sep=';').drop('id', 1)"
      ],
      "execution_count": null,
      "outputs": []
    },
    {
      "cell_type": "code",
      "metadata": {
        "id": "5P_ORLJhz59O",
        "colab_type": "code",
        "colab": {}
      },
      "source": [
        "def ageInYears(dataTable):\n",
        "    ageInYears = []\n",
        "    for i in range(len(dataTable)):\n",
        "        ageInYears.append(int(round(dataTable.iloc[i]['age']/365)))\n",
        "    return ageInYears"
      ],
      "execution_count": null,
      "outputs": []
    },
    {
      "cell_type": "code",
      "metadata": {
        "id": "u9EjhO4Lz59R",
        "colab_type": "code",
        "colab": {}
      },
      "source": [
        "ageInYears = ageInYears(dataTable)\n",
        "dataTable['age_years'] = ageInYears\n",
        "cols = dataTable.columns.tolist()\n",
        "cols.insert(0, cols.pop(cols.index('age_years')))\n",
        "dataTable = dataTable.reindex(columns= cols)\n",
        "del dataTable['age']\n",
        "dataTable.columns = ['Age_years', 'Gender', 'Height', 'Weight', 'Systolic_bp', 'Diastolic_bp', 'Cholesterol', 'Glucose', 'Smoking', 'Alcohol_intake', 'Physical_activity', 'Cardio_disease' ]"
      ],
      "execution_count": null,
      "outputs": []
    },
    {
      "cell_type": "code",
      "metadata": {
        "id": "3XuvZzYrz59U",
        "colab_type": "code",
        "colab": {}
      },
      "source": [
        "atributes = dataTable.values[:,:-1]\n",
        "classes = dataTable.values[:,-1]\n",
        "xTrain, xTest, yTrain, yTest = train_test_split(atributes, classes, test_size = 0.20)\n",
        "xTrain, xVal, yTrain, yVal = train_test_split(xTrain, yTrain, test_size = 0.20)"
      ],
      "execution_count": null,
      "outputs": []
    },
    {
      "cell_type": "code",
      "metadata": {
        "id": "cF62mG1Iz59X",
        "colab_type": "code",
        "colab": {}
      },
      "source": [
        "def normalization(matrix, vector):\n",
        "    #Mean calculation\n",
        "    mVector = np.mean(vector, axis=0)\n",
        "    mMatrix = np.mean(matrix, axis=0)\n",
        "    \n",
        "    #Standard deviation\n",
        "    stdVector = np.std(vector, axis = 0)\n",
        "    stdMatrix = np.std(matrix, axis = 0)\n",
        "     \n",
        "    #Normalization of data\n",
        "    vector = (vector - mVector)/stdVector\n",
        "    matrix = (matrix - mMatrix)/stdMatrix\n",
        "    \n",
        "    return matrix, vector"
      ],
      "execution_count": null,
      "outputs": []
    },
    {
      "cell_type": "code",
      "metadata": {
        "id": "2UEbqUvBz59a",
        "colab_type": "code",
        "colab": {}
      },
      "source": [
        "def sigmoide(z):\n",
        "    return 1 / (1 + np.exp(-z))"
      ],
      "execution_count": null,
      "outputs": []
    },
    {
      "cell_type": "code",
      "metadata": {
        "id": "db-Lwih9z59d",
        "colab_type": "code",
        "colab": {}
      },
      "source": [
        "def predict_logistic_regression_binary(matrix_x, w):\n",
        "    \n",
        "    predictions = []\n",
        "    matrix_x = np.insert(matrix_x, 0, 1, axis =1)\n",
        "    for i in range(matrix_x.shape[0]):\n",
        "        predictions.append(round(sigmoide(matrix_x[i].dot(w))))\n",
        "        \n",
        "    return predictions"
      ],
      "execution_count": null,
      "outputs": []
    },
    {
      "cell_type": "code",
      "metadata": {
        "id": "zMyRRrVCz59g",
        "colab_type": "code",
        "colab": {}
      },
      "source": [
        "def stochastic_gradient_descent(matrix_x, vector_y, epochs, alpha):\n",
        "    matrix_x = np.insert(matrix_x, 0, 1, axis =1)\n",
        "    w_matrix = np.ones((matrix_x.shape[1],), dtype=float)\n",
        "    y_predicted = matrix_x.dot(w_matrix)\n",
        "    data =np.append(matrix_x, np.split(vector_y, matrix_x.shape[0], axis=0), axis=1)\n",
        "    mse = []\n",
        "\n",
        "    for epoch in range(epochs):\n",
        "        erro = 0\n",
        "        somatorio = 0\n",
        "        for i in range(matrix_x.shape[0]):\n",
        "            w_matrix  = w_matrix + alpha * (vector_y[i] - sigmoide(y_predicted[i])) * matrix_x[i]\n",
        "            somatorio += (vector_y[i] - sigmoide(y_predicted[i])) * matrix_x[i]\n",
        "        \n",
        "        mse.append((-1/matrix_x.shape[0]) * somatorio)        \n",
        "        data = np.random.permutation(data)\n",
        "        matrix_x = data[: ,0:matrix_x.shape[1]]\n",
        "        vector_y = data[:,matrix_x.shape[1]]\n",
        "        \n",
        "        y_predicted = matrix_x.dot(w_matrix)  \n",
        "    \n",
        "    return w_matrix, mse"
      ],
      "execution_count": null,
      "outputs": []
    },
    {
      "cell_type": "code",
      "metadata": {
        "id": "U566eFSPz59j",
        "colab_type": "code",
        "colab": {}
      },
      "source": [
        "def accuracy(predicted, actual):\n",
        "    total = 0;\n",
        "    for a,p in zip(actual, predicted):\n",
        "        if (a == p):\n",
        "            total +=1;\n",
        "    return (total/len(actual))*100"
      ],
      "execution_count": null,
      "outputs": []
    },
    {
      "cell_type": "code",
      "metadata": {
        "id": "wBicfYKFz59l",
        "colab_type": "code",
        "colab": {}
      },
      "source": [
        "x_train, y_train = normalization(xTrain, yTrain)\n",
        "x_val, y_val = normalization(xVal, yVal)\n",
        "x_test, y_test = normalization(xTest, yTest)"
      ],
      "execution_count": null,
      "outputs": []
    },
    {
      "cell_type": "code",
      "metadata": {
        "id": "ErhvHnLcz59o",
        "colab_type": "code",
        "colab": {
          "base_uri": "https://localhost:8080/",
          "height": 1000
        },
        "outputId": "d519a57d-f1f4-4934-b2f8-b1d2bc42d62e"
      },
      "source": [
        "grid_search = np.meshgrid(np.array([0.01, 0.001, 0.0001, 0.00001]), # passo aprendizagem\n",
        "                          np.array([500, 1000, 1250,1500,2000])) # epocas\n",
        "scores ={}\n",
        "for i in range(grid_search[0].shape[0]):\n",
        "    for j in range(grid_search[1].shape[1]):\n",
        "        alpha = grid_search[0][i,j]\n",
        "        lamb = grid_search[1][i,j]\n",
        "        \n",
        "        print(\"passo aprendizagem: \",alpha ,\"\\t\",\"epocas: \" ,lamb)\n",
        "        \n",
        "        w, mse = stochastic_gradient_descent(x_train, y_train, lamb, alpha)\n",
        "        predictions_logistic = predict_logistic_regression_binary(x_val, w)\n",
        "        acc = accuracy(predictions_logistic, yVal)\n",
        "        scores[acc] = [alpha, lamb]\n",
        "        \n",
        "        print(scores)\n",
        "        print('accuracy', acc)\n",
        "\n",
        "best_score = max(scores, key=float)\n",
        "train_data = np.concatenate((x_train, x_val))\n",
        "train_test_data = np.concatenate((y_train, y_val))\n",
        "\n",
        "w, mse = stochastic_gradient_descent(train_data, train_test_data, scores[best_score][1], scores[best_score][0])\n",
        "\n",
        "predictions_logistic = predict_logistic_regression_binary(x_test, w)\n",
        "acc = accuracy(predictions_logistic, yTest)\n",
        "print(acc)"
      ],
      "execution_count": null,
      "outputs": [
        {
          "output_type": "stream",
          "text": [
            "passo aprendizagem:  0.01 \t epocas:  500\n"
          ],
          "name": "stdout"
        },
        {
          "output_type": "stream",
          "text": [
            "/usr/local/lib/python3.6/dist-packages/ipykernel_launcher.py:2: RuntimeWarning: overflow encountered in exp\n",
            "  \n"
          ],
          "name": "stderr"
        },
        {
          "output_type": "stream",
          "text": [
            "{57.160714285714285: [0.01, 500]}\n",
            "accuracy 57.160714285714285\n",
            "passo aprendizagem:  0.001 \t epocas:  500\n",
            "{57.160714285714285: [0.001, 500]}\n",
            "accuracy 57.160714285714285\n",
            "passo aprendizagem:  0.0001 \t epocas:  500\n",
            "{57.160714285714285: [0.0001, 500]}\n",
            "accuracy 57.160714285714285\n",
            "passo aprendizagem:  1e-05 \t epocas:  500\n",
            "{57.160714285714285: [0.0001, 500], 57.14285714285714: [1e-05, 500]}\n",
            "accuracy 57.14285714285714\n",
            "passo aprendizagem:  0.01 \t epocas:  1000\n",
            "{57.160714285714285: [0.01, 1000], 57.14285714285714: [1e-05, 500]}\n",
            "accuracy 57.160714285714285\n",
            "passo aprendizagem:  0.001 \t epocas:  1000\n",
            "{57.160714285714285: [0.001, 1000], 57.14285714285714: [1e-05, 500]}\n",
            "accuracy 57.160714285714285\n",
            "passo aprendizagem:  0.0001 \t epocas:  1000\n",
            "{57.160714285714285: [0.001, 1000], 57.14285714285714: [1e-05, 500], 57.169642857142854: [0.0001, 1000]}\n",
            "accuracy 57.169642857142854\n",
            "passo aprendizagem:  1e-05 \t epocas:  1000\n",
            "{57.160714285714285: [1e-05, 1000], 57.14285714285714: [1e-05, 500], 57.169642857142854: [0.0001, 1000]}\n",
            "accuracy 57.160714285714285\n",
            "passo aprendizagem:  0.01 \t epocas:  1250\n",
            "{57.160714285714285: [0.01, 1250], 57.14285714285714: [1e-05, 500], 57.169642857142854: [0.0001, 1000]}\n",
            "accuracy 57.160714285714285\n",
            "passo aprendizagem:  0.001 \t epocas:  1250\n",
            "{57.160714285714285: [0.001, 1250], 57.14285714285714: [1e-05, 500], 57.169642857142854: [0.0001, 1000]}\n",
            "accuracy 57.160714285714285\n",
            "passo aprendizagem:  0.0001 \t epocas:  1250\n",
            "{57.160714285714285: [0.001, 1250], 57.14285714285714: [1e-05, 500], 57.169642857142854: [0.0001, 1250]}\n",
            "accuracy 57.169642857142854\n",
            "passo aprendizagem:  1e-05 \t epocas:  1250\n",
            "{57.160714285714285: [1e-05, 1250], 57.14285714285714: [1e-05, 500], 57.169642857142854: [0.0001, 1250]}\n",
            "accuracy 57.160714285714285\n",
            "passo aprendizagem:  0.01 \t epocas:  1500\n",
            "{57.160714285714285: [0.01, 1500], 57.14285714285714: [1e-05, 500], 57.169642857142854: [0.0001, 1250]}\n",
            "accuracy 57.160714285714285\n",
            "passo aprendizagem:  0.001 \t epocas:  1500\n",
            "{57.160714285714285: [0.001, 1500], 57.14285714285714: [1e-05, 500], 57.169642857142854: [0.0001, 1250]}\n",
            "accuracy 57.160714285714285\n",
            "passo aprendizagem:  0.0001 \t epocas:  1500\n",
            "{57.160714285714285: [0.001, 1500], 57.14285714285714: [1e-05, 500], 57.169642857142854: [0.0001, 1500]}\n",
            "accuracy 57.169642857142854\n",
            "passo aprendizagem:  1e-05 \t epocas:  1500\n",
            "{57.160714285714285: [1e-05, 1500], 57.14285714285714: [1e-05, 500], 57.169642857142854: [0.0001, 1500]}\n",
            "accuracy 57.160714285714285\n",
            "passo aprendizagem:  0.01 \t epocas:  2000\n",
            "{57.160714285714285: [0.01, 2000], 57.14285714285714: [1e-05, 500], 57.169642857142854: [0.0001, 1500]}\n",
            "accuracy 57.160714285714285\n",
            "passo aprendizagem:  0.001 \t epocas:  2000\n",
            "{57.160714285714285: [0.001, 2000], 57.14285714285714: [1e-05, 500], 57.169642857142854: [0.0001, 1500]}\n",
            "accuracy 57.160714285714285\n",
            "passo aprendizagem:  0.0001 \t epocas:  2000\n",
            "{57.160714285714285: [0.001, 2000], 57.14285714285714: [1e-05, 500], 57.169642857142854: [0.0001, 2000]}\n",
            "accuracy 57.169642857142854\n",
            "passo aprendizagem:  1e-05 \t epocas:  2000\n",
            "{57.160714285714285: [1e-05, 2000], 57.14285714285714: [1e-05, 500], 57.169642857142854: [0.0001, 2000]}\n",
            "accuracy 57.160714285714285\n",
            "57.078571428571436\n"
          ],
          "name": "stdout"
        }
      ]
    },
    {
      "cell_type": "code",
      "metadata": {
        "id": "YqM0RoKqz59s",
        "colab_type": "code",
        "colab": {}
      },
      "source": [
        ""
      ],
      "execution_count": null,
      "outputs": []
    },
    {
      "cell_type": "code",
      "metadata": {
        "id": "RF5IorNez59v",
        "colab_type": "code",
        "colab": {}
      },
      "source": [
        ""
      ],
      "execution_count": null,
      "outputs": []
    },
    {
      "cell_type": "code",
      "metadata": {
        "id": "RqycbpUzz59x",
        "colab_type": "code",
        "colab": {}
      },
      "source": [
        ""
      ],
      "execution_count": null,
      "outputs": []
    },
    {
      "cell_type": "code",
      "metadata": {
        "id": "lf4vKtYoz590",
        "colab_type": "code",
        "colab": {}
      },
      "source": [
        ""
      ],
      "execution_count": null,
      "outputs": []
    },
    {
      "cell_type": "code",
      "metadata": {
        "id": "UZRC8qgDz592",
        "colab_type": "code",
        "colab": {}
      },
      "source": [
        ""
      ],
      "execution_count": null,
      "outputs": []
    }
  ]
}