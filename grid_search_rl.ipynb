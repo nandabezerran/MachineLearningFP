{
 "cells": [
  {
   "cell_type": "code",
   "execution_count": 1,
   "metadata": {},
   "outputs": [
    {
     "name": "stderr",
     "output_type": "stream",
     "text": [
      "c:\\users\\arina\\appdata\\local\\programs\\python\\python37-32\\lib\\site-packages\\numpy\\_distributor_init.py:32: UserWarning: loaded more than 1 DLL from .libs:\n",
      "c:\\users\\arina\\appdata\\local\\programs\\python\\python37-32\\lib\\site-packages\\numpy\\.libs\\libopenblas.2V74HQ3MKNZHDCKJELIPPY7V6QMK3UOZ.gfortran-win32.dll\n",
      "c:\\users\\arina\\appdata\\local\\programs\\python\\python37-32\\lib\\site-packages\\numpy\\.libs\\libopenblas.SVHFG5YE3RK3Z27NVFUDAPL2O3W6IMXW.gfortran-win32.dll\n",
      "  stacklevel=1)\n"
     ]
    }
   ],
   "source": [
    "import numpy as np\n",
    "import pandas as pd\n",
    "import random as rd\n",
    "import array\n",
    "from math import sqrt\n",
    "from sklearn.model_selection import train_test_split\n",
    "from sklearn.metrics import classification_report, accuracy_score\n",
    "from sklearn.metrics import confusion_matrix"
   ]
  },
  {
   "cell_type": "code",
   "execution_count": 2,
   "metadata": {},
   "outputs": [],
   "source": [
    "dataTable = pd.read_csv('cardio_train.csv', delimiter=';').drop('id', 1)"
   ]
  },
  {
   "cell_type": "code",
   "execution_count": 3,
   "metadata": {},
   "outputs": [],
   "source": [
    "def ageInYears(dataTable):\n",
    "    ageInYears = []\n",
    "    for i in range(len(dataTable)):\n",
    "        ageInYears.append(int(round(dataTable.iloc[i]['age']/365)))\n",
    "    return ageInYears"
   ]
  },
  {
   "cell_type": "code",
   "execution_count": 4,
   "metadata": {},
   "outputs": [],
   "source": [
    "ageInYears = ageInYears(dataTable)\n",
    "dataTable['age_years'] = ageInYears\n",
    "cols = dataTable.columns.tolist()\n",
    "cols.insert(0, cols.pop(cols.index('age_years')))\n",
    "dataTable = dataTable.reindex(columns= cols)\n",
    "del dataTable['age']\n",
    "dataTable.columns = ['Age_years', 'Gender', 'Height', 'Weight', 'Systolic_bp', 'Diastolic_bp', 'Cholesterol', 'Glucose', 'Smoking', 'Alcohol_intake', 'Physical_activity', 'Cardio_disease' ]"
   ]
  },
  {
   "cell_type": "code",
   "execution_count": 5,
   "metadata": {},
   "outputs": [],
   "source": [
    "atributes = dataTable.values[:,:-1]\n",
    "classes = dataTable.values[:,-1]\n",
    "xTrain, xTest, yTrain, yTest = train_test_split(atributes, classes, test_size = 0.25)"
   ]
  },
  {
   "cell_type": "code",
   "execution_count": 6,
   "metadata": {},
   "outputs": [],
   "source": [
    "def normalization(matrix, vector):\n",
    "    #Mean calculation\n",
    "    mVector = np.mean(vector, axis=0)\n",
    "    mMatrix = np.mean(matrix, axis=0)\n",
    "    \n",
    "    #Standard deviation\n",
    "    stdVector = np.std(vector, axis = 0)\n",
    "    stdMatrix = np.std(matrix, axis = 0)\n",
    "     \n",
    "    #Normalization of data\n",
    "    vector = (vector - mVector)/stdVector\n",
    "    matrix = (matrix - mMatrix)/stdMatrix\n",
    "    \n",
    "    return matrix, vector"
   ]
  },
  {
   "cell_type": "code",
   "execution_count": 7,
   "metadata": {},
   "outputs": [],
   "source": [
    "def sigmoide(z):\n",
    "    return 1 / (1 + np.exp(-z))"
   ]
  },
  {
   "cell_type": "code",
   "execution_count": 8,
   "metadata": {},
   "outputs": [],
   "source": [
    "def predict_logistic_regression_binary(matrix_x, w):\n",
    "    \n",
    "    predictions = []\n",
    "    matrix_x = np.insert(matrix_x, 0, 1, axis =1)\n",
    "    for i in range(matrix_x.shape[0]):\n",
    "        predictions.append(round(sigmoide(matrix_x[i].dot(w))))\n",
    "        \n",
    "    return predictions"
   ]
  },
  {
   "cell_type": "code",
   "execution_count": 9,
   "metadata": {},
   "outputs": [],
   "source": [
    "def stochastic_gradient_descent(matrix_x, vector_y, epochs, alpha):\n",
    "    matrix_x = np.insert(matrix_x, 0, 1, axis =1)\n",
    "    w_matrix = np.ones((matrix_x.shape[1],), dtype=float)\n",
    "    y_predicted = matrix_x.dot(w_matrix)\n",
    "    data =np.append(matrix_x, np.split(vector_y, matrix_x.shape[0], axis=0), axis=1)\n",
    "    mse = []\n",
    "\n",
    "    for epoch in range(epochs):\n",
    "        erro = 0\n",
    "        somatorio = 0\n",
    "        for i in range(matrix_x.shape[0]):\n",
    "            w_matrix  = w_matrix + alpha * (vector_y[i] - sigmoide(y_predicted[i])) * matrix_x[i]\n",
    "            somatorio += (vector_y[i] - sigmoide(y_predicted[i])) * matrix_x[i]\n",
    "        \n",
    "        mse.append((-1/matrix_x.shape[0]) * somatorio)        \n",
    "        data = np.random.permutation(data)\n",
    "        matrix_x = data[: ,0:matrix_x.shape[1]]\n",
    "        vector_y = data[:,matrix_x.shape[1]]\n",
    "        \n",
    "        y_predicted = matrix_x.dot(w_matrix)  \n",
    "    \n",
    "    return w_matrix, mse"
   ]
  },
  {
   "cell_type": "code",
   "execution_count": 10,
   "metadata": {},
   "outputs": [],
   "source": [
    "def accuracy(predicted, actual):\n",
    "    total = 0;\n",
    "    for a,p in zip(actual, predicted):\n",
    "        if (a == p):\n",
    "            total +=1;\n",
    "    return (total/len(actual))*100"
   ]
  },
  {
   "cell_type": "code",
   "execution_count": 11,
   "metadata": {},
   "outputs": [],
   "source": [
    "matrix_x, vector_y = normalization(xTrain, yTrain)\n",
    "matrix_x_test, vector_y_test = normalization(xTest, yTest)"
   ]
  },
  {
   "cell_type": "code",
   "execution_count": 12,
   "metadata": {},
   "outputs": [
    {
     "name": "stdout",
     "output_type": "stream",
     "text": [
      "alpha:  0.001 \t lamb:  500\n"
     ]
    },
    {
     "name": "stderr",
     "output_type": "stream",
     "text": [
      "c:\\users\\arina\\appdata\\local\\programs\\python\\python37-32\\lib\\site-packages\\ipykernel_launcher.py:2: RuntimeWarning: overflow encountered in exp\n",
      "  \n"
     ]
    },
    {
     "name": "stdout",
     "output_type": "stream",
     "text": [
      "accuracy 58.47428571428571\n",
      "alpha:  0.0001 \t lamb:  500\n",
      "accuracy 58.46857142857142\n",
      "alpha:  1e-05 \t lamb:  500\n",
      "accuracy 58.605714285714285\n",
      "alpha:  0.001 \t lamb:  1000\n",
      "accuracy 58.47428571428571\n",
      "alpha:  0.0001 \t lamb:  1000\n",
      "accuracy 58.46857142857142\n",
      "alpha:  1e-05 \t lamb:  1000\n",
      "accuracy 58.55428571428571\n",
      "alpha:  0.001 \t lamb:  1250\n",
      "accuracy 58.47428571428571\n",
      "alpha:  0.0001 \t lamb:  1250\n",
      "accuracy 58.46857142857142\n",
      "alpha:  1e-05 \t lamb:  1250\n",
      "accuracy 58.53142857142857\n",
      "alpha:  0.001 \t lamb:  1500\n",
      "accuracy 58.47428571428571\n",
      "alpha:  0.0001 \t lamb:  1500\n",
      "accuracy 58.46857142857142\n",
      "alpha:  1e-05 \t lamb:  1500\n",
      "accuracy 58.52\n",
      "alpha:  0.001 \t lamb:  2000\n",
      "accuracy 58.47428571428571\n",
      "alpha:  0.0001 \t lamb:  2000\n",
      "accuracy 58.47428571428571\n",
      "alpha:  1e-05 \t lamb:  2000\n",
      "accuracy 58.502857142857145\n"
     ]
    }
   ],
   "source": [
    "grid_search = np.meshgrid(np.array([0.001, 0.0001, 0.00001]), # passo aprendizagem\n",
    "                          np.array([500, 1000, 1250,1500,2000])) # lambda\n",
    "\n",
    "for i in range(grid_search[0].shape[0]):\n",
    "    for j in range(grid_search[1].shape[1]):\n",
    "        alpha = grid_search[0][i,j]\n",
    "        lamb = grid_search[1][i,j]\n",
    "        print(\"alpha: \",alpha ,\"\\t\",\"lamb: \" ,lamb)\n",
    "        w, mse = stochastic_gradient_descent(matrix_x, vector_y, lamb, alpha)\n",
    "        predictions_logistic = predict_logistic_regression_binary(matrix_x_test, w)\n",
    "        acc = accuracy(predictions_logistic, yTest)\n",
    "        print('accuracy', acc)"
   ]
  },
  {
   "cell_type": "code",
   "execution_count": null,
   "metadata": {},
   "outputs": [],
   "source": []
  },
  {
   "cell_type": "code",
   "execution_count": null,
   "metadata": {},
   "outputs": [],
   "source": []
  },
  {
   "cell_type": "code",
   "execution_count": null,
   "metadata": {},
   "outputs": [],
   "source": []
  },
  {
   "cell_type": "code",
   "execution_count": null,
   "metadata": {},
   "outputs": [],
   "source": []
  },
  {
   "cell_type": "code",
   "execution_count": null,
   "metadata": {},
   "outputs": [],
   "source": []
  },
  {
   "cell_type": "code",
   "execution_count": null,
   "metadata": {},
   "outputs": [],
   "source": []
  },
  {
   "cell_type": "code",
   "execution_count": null,
   "metadata": {},
   "outputs": [],
   "source": []
  },
  {
   "cell_type": "code",
   "execution_count": null,
   "metadata": {},
   "outputs": [],
   "source": []
  },
  {
   "cell_type": "code",
   "execution_count": null,
   "metadata": {},
   "outputs": [],
   "source": []
  },
  {
   "cell_type": "code",
   "execution_count": null,
   "metadata": {},
   "outputs": [],
   "source": []
  },
  {
   "cell_type": "code",
   "execution_count": null,
   "metadata": {},
   "outputs": [],
   "source": []
  },
  {
   "cell_type": "code",
   "execution_count": null,
   "metadata": {},
   "outputs": [],
   "source": []
  },
  {
   "cell_type": "code",
   "execution_count": null,
   "metadata": {},
   "outputs": [],
   "source": []
  }
 ],
 "metadata": {
  "kernelspec": {
   "display_name": "Python 3",
   "language": "python",
   "name": "python3"
  },
  "language_info": {
   "codemirror_mode": {
    "name": "ipython",
    "version": 3
   },
   "file_extension": ".py",
   "mimetype": "text/x-python",
   "name": "python",
   "nbconvert_exporter": "python",
   "pygments_lexer": "ipython3",
   "version": "3.7.4"
  }
 },
 "nbformat": 4,
 "nbformat_minor": 4
}
